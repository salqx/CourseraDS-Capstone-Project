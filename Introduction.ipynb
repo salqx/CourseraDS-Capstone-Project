{
    "cells": [
        {
            "cell_type": "markdown",
            "metadata": {
                "collapsed": true
            },
            "source": "# Dubai's Apartment Sale Prices and Venues Analysis"
        },
        {
            "cell_type": "markdown",
            "metadata": {},
            "source": "## 1- Introduction and Business Problem"
        },
        {
            "cell_type": "markdown",
            "metadata": {},
            "source": "The goal of this project is to find the optimal location where a potential buyer of an Apartment in **Dubai** is going to consider.\nCompared to villas, apartments provide more convenience for a small family or a single person living alone. However, the price of the apartment is **NOT** the only indicator of convenience as\nthere or many other factors such as nearby venues like restaurants, malls, supermarkets and metro stations. With a population of more than 2.8 Million, Dubai's population density in 2017 was 763.19 persons per sq.km. "
        },
        {
            "cell_type": "markdown",
            "metadata": {},
            "source": "Hosting the talest towr in the world and more than 70 skyscrapers higher than 150 meters, choosing the **right appartment to purchase or invest** in **Dubai** could be difficult and time consuming. Depending on ones interests and preferances, different areas could have more or less value to the potential owner. "
        },
        {
            "cell_type": "markdown",
            "metadata": {},
            "source": " To overcome this challenge, **Data Science** mthods and techniques could help us decide the best options which take in consideraition all possibles factors that will evantually contribute to one's choice and preferance. "
        },
        {
            "cell_type": "code",
            "execution_count": null,
            "metadata": {},
            "outputs": [],
            "source": ""
        }
    ],
    "metadata": {
        "kernelspec": {
            "display_name": "Python 3.6",
            "language": "python",
            "name": "python3"
        },
        "language_info": {
            "codemirror_mode": {
                "name": "ipython",
                "version": 3
            },
            "file_extension": ".py",
            "mimetype": "text/x-python",
            "name": "python",
            "nbconvert_exporter": "python",
            "pygments_lexer": "ipython3",
            "version": "3.6.9"
        }
    },
    "nbformat": 4,
    "nbformat_minor": 1
}
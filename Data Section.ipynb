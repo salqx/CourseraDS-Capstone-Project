{
    "cells": [
        {
            "cell_type": "markdown",
            "metadata": {
                "collapsed": true
            },
            "source": "# Dubai's Apartment Sale Prices and Venues Analysis"
        },
        {
            "cell_type": "markdown",
            "metadata": {},
            "source": "## 2- Data"
        },
        {
            "cell_type": "markdown",
            "metadata": {},
            "source": "As we have defined the problem in the previous section, we can now list the  data sources needed to complete the project:"
        },
        {
            "cell_type": "markdown",
            "metadata": {},
            "source": "### A. NYU Repository "
        },
        {
            "cell_type": "markdown",
            "metadata": {},
            "source": "The first source is New York University Repository to get **latitude** and **longitude** of the areas. Once locations data is gathered and cleaned in a table, they will be used in the following steps. However, due to limited data on exact neighborhoods, we decided to chose **Metro Stations** as points which we will find nearby venues to cluster. The data could be found in this link: https://geo.nyu.edu/catalog/nyu-2451-42143"
        },
        {
            "cell_type": "markdown",
            "metadata": {},
            "source": "### B. Foursquare API "
        },
        {
            "cell_type": "markdown",
            "metadata": {},
            "source": "With the API, we can collect the number of venues such as restaurants, pharmacies, mall..etc and their proximity from the locations of the Metro Stations. "
        },
        {
            "cell_type": "markdown",
            "metadata": {},
            "source": "### C. Bayut.com"
        },
        {
            "cell_type": "markdown",
            "metadata": {},
            "source": "One of the most populaar website/apps which hosts the prices of properties inclusing apartments in **Dubai** www.Bayut.com It also gathers trends and indices which we can use to compare apartment sale prices."
        },
        {
            "cell_type": "code",
            "execution_count": null,
            "metadata": {},
            "outputs": [],
            "source": ""
        }
    ],
    "metadata": {
        "kernelspec": {
            "display_name": "Python 3.6",
            "language": "python",
            "name": "python3"
        },
        "language_info": {
            "codemirror_mode": {
                "name": "ipython",
                "version": 3
            },
            "file_extension": ".py",
            "mimetype": "text/x-python",
            "name": "python",
            "nbconvert_exporter": "python",
            "pygments_lexer": "ipython3",
            "version": "3.6.9"
        }
    },
    "nbformat": 4,
    "nbformat_minor": 1
}